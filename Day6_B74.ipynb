{
 "cells": [
  {
   "cell_type": "code",
   "execution_count": null,
   "id": "aef99987",
   "metadata": {},
   "outputs": [],
   "source": [
    "# formula\n",
    "for temp_var in main_var\n",
    "    print(temp_var)"
   ]
  },
  {
   "cell_type": "code",
   "execution_count": null,
   "id": "6f6f0688",
   "metadata": {},
   "outputs": [],
   "source": []
  },
  {
   "cell_type": "code",
   "execution_count": 1,
   "id": "7f21d407",
   "metadata": {},
   "outputs": [],
   "source": [
    "students = ['divya','sindu','swathi','bindu','deepthi','sweety','swathireddy']"
   ]
  },
  {
   "cell_type": "code",
   "execution_count": 10,
   "id": "f19a5fd8",
   "metadata": {},
   "outputs": [
    {
     "data": {
      "text/plain": [
       "list"
      ]
     },
     "execution_count": 10,
     "metadata": {},
     "output_type": "execute_result"
    }
   ],
   "source": [
    "type(students)"
   ]
  },
  {
   "cell_type": "code",
   "execution_count": 2,
   "id": "7ab20fa2",
   "metadata": {},
   "outputs": [
    {
     "name": "stdout",
     "output_type": "stream",
     "text": [
      "['divya', 'sindu', 'swathi', 'bindu', 'deepthi', 'sweety', 'swathireddy']\n"
     ]
    }
   ],
   "source": [
    "print(students)"
   ]
  },
  {
   "cell_type": "code",
   "execution_count": 8,
   "id": "dbbe89d3",
   "metadata": {},
   "outputs": [
    {
     "name": "stdout",
     "output_type": "stream",
     "text": [
      "keep up the good work, Divya\n"
     ]
    }
   ],
   "source": [
    "print(f\"keep up the good work, {students[0].title()}\")"
   ]
  },
  {
   "cell_type": "code",
   "execution_count": 15,
   "id": "49ff493f",
   "metadata": {},
   "outputs": [
    {
     "name": "stdout",
     "output_type": "stream",
     "text": [
      "keep up the good work, Divya\n",
      "keep up the good work, Sindu\n",
      "keep up the good work, Swathi\n",
      "keep up the good work, Bindu\n",
      "keep up the good work, Deepthi\n",
      "keep up the good work, Sweety\n",
      "keep up the good work, Swathireddy\n"
     ]
    }
   ],
   "source": [
    "for x in students:\n",
    "    print(f\"keep up the good work, {x.title()}\")"
   ]
  },
  {
   "cell_type": "code",
   "execution_count": 16,
   "id": "0801c3f4",
   "metadata": {},
   "outputs": [
    {
     "name": "stdout",
     "output_type": "stream",
     "text": [
      "divya\n",
      "sindu\n",
      "swathi\n",
      "bindu\n",
      "deepthi\n",
      "sweety\n",
      "swathireddy\n"
     ]
    }
   ],
   "source": [
    "for a in students:\n",
    "    print(a)"
   ]
  },
  {
   "cell_type": "code",
   "execution_count": 17,
   "id": "702a8be2",
   "metadata": {},
   "outputs": [
    {
     "name": "stdout",
     "output_type": "stream",
     "text": [
      "keep up the good work, divya\n",
      "i will be looking forward for todays submission, divya\n",
      "keep up the good work, sindu\n",
      "i will be looking forward for todays submission, sindu\n",
      "keep up the good work, swathi\n",
      "i will be looking forward for todays submission, swathi\n",
      "keep up the good work, bindu\n",
      "i will be looking forward for todays submission, bindu\n",
      "keep up the good work, deepthi\n",
      "i will be looking forward for todays submission, deepthi\n",
      "keep up the good work, sweety\n",
      "i will be looking forward for todays submission, sweety\n",
      "keep up the good work, swathireddy\n",
      "i will be looking forward for todays submission, swathireddy\n"
     ]
    }
   ],
   "source": [
    "for x in students:\n",
    "    print(f\"keep up the good work, {x}\")\n",
    "    print(f\"i will be looking forward for todays submission, {x}\")"
   ]
  },
  {
   "cell_type": "code",
   "execution_count": 18,
   "id": "5430e730",
   "metadata": {},
   "outputs": [
    {
     "name": "stdout",
     "output_type": "stream",
     "text": [
      "keep up the good work, divya\n",
      "i will be looking forward for todays submission, divya\n",
      "\n",
      "keep up the good work, sindu\n",
      "i will be looking forward for todays submission, sindu\n",
      "\n",
      "keep up the good work, swathi\n",
      "i will be looking forward for todays submission, swathi\n",
      "\n",
      "keep up the good work, bindu\n",
      "i will be looking forward for todays submission, bindu\n",
      "\n",
      "keep up the good work, deepthi\n",
      "i will be looking forward for todays submission, deepthi\n",
      "\n",
      "keep up the good work, sweety\n",
      "i will be looking forward for todays submission, sweety\n",
      "\n",
      "keep up the good work, swathireddy\n",
      "i will be looking forward for todays submission, swathireddy\n",
      "\n"
     ]
    }
   ],
   "source": [
    "for x in students:\n",
    "    print(f\"keep up the good work, {x}\")\n",
    "    print(f\"i will be looking forward for todays submission, {x}\\n\")"
   ]
  },
  {
   "cell_type": "code",
   "execution_count": null,
   "id": "ad26fc2e",
   "metadata": {},
   "outputs": [],
   "source": []
  }
 ],
 "metadata": {
  "kernelspec": {
   "display_name": "Python 3 (ipykernel)",
   "language": "python",
   "name": "python3"
  },
  "language_info": {
   "codemirror_mode": {
    "name": "ipython",
    "version": 3
   },
   "file_extension": ".py",
   "mimetype": "text/x-python",
   "name": "python",
   "nbconvert_exporter": "python",
   "pygments_lexer": "ipython3",
   "version": "3.9.13"
  }
 },
 "nbformat": 4,
 "nbformat_minor": 5
}
